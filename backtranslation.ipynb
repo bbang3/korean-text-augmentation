{
 "cells": [
  {
   "cell_type": "code",
   "execution_count": 1,
   "metadata": {},
   "outputs": [],
   "source": [
    "import jsonlines\n",
    "import pandas as pd\n",
    "import emoji\n",
    "from soynlp.normalizer import repeat_normalize"
   ]
  },
  {
   "cell_type": "code",
   "execution_count": 2,
   "metadata": {},
   "outputs": [],
   "source": [
    "from tqdm import tqdm\n",
    "import selenium\n",
    "from selenium import webdriver\n",
    "from selenium.webdriver.remote.webdriver import WebDriver\n",
    "from selenium.webdriver.chrome.options import Options\n",
    "from selenium.webdriver.common.by import By\n",
    "import time\n",
    "import urllib\n",
    "import re"
   ]
  },
  {
   "cell_type": "markdown",
   "metadata": {},
   "source": [
    "# Backtranslation"
   ]
  },
  {
   "cell_type": "code",
   "execution_count": 61,
   "metadata": {},
   "outputs": [],
   "source": [
    "import urllib.parse\n",
    "\n",
    "def translation(df, src_lang, tgt_lang, driver: WebDriver):\n",
    "    \"\"\"\n",
    "    request format: sk={src_lang}&tk={tgt_lang}&st={text}\n",
    "    \"\"\"\n",
    "    \n",
    "    request_url = 'https://papago.naver.com/?sk={}&tk={}&st={}'\n",
    "    is_formal = False\n",
    "    augmented_texts = []\n",
    "    for idx, row in tqdm(df.iterrows(), total=len(df)):\n",
    "        text = row['title']\n",
    "        \n",
    "        translated_text = \"\"\n",
    "        while translated_text == \"\": # 번역이 제대로 되지 않았을 경우 다시 번역\n",
    "            try:\n",
    "                translated_text = urllib.parse.quote(translated_text) # 특수문자로 인한 encoding\n",
    "                driver.get(request_url.format(src_lang, tgt_lang, text))\n",
    "                driver.implicitly_wait(60)\n",
    "                time.sleep(1.0)\n",
    "\n",
    "                if tgt_lang == 'ko' and is_formal: # 한국어로 번역할 경우 높임말 해제 (only for en, ja, cn)\n",
    "                    driver.find_element(By.XPATH, '//*[@id=\"root\"]/div/div[1]/section/div/div[1]/div[3]/div/div[6]/div/button').click()\n",
    "                    is_formal = False\n",
    "                    time.sleep(1.5)\n",
    "                translated_text = driver.find_element(By.XPATH, '//*[@id=\"txtTarget\"]').text # translation result\n",
    "\n",
    "            except: # 오류 발생 시 get 방식이 아닌 직접 텍스트를 입력하도록 시도\n",
    "                driver.get(request_url.format(src_lang, tgt_lang, ''))\n",
    "                time.sleep(1.5)\n",
    "                driver.find_element(By.XPATH, '//*[@id=\"txtSource\"]').send_keys(text)\n",
    "                time.sleep(1.5)\n",
    "                translated_text = driver.find_element(By.XPATH, '//*[@id=\"txtTarget\"]').text\n",
    "\n",
    "        assert translated_text != \"\"\n",
    "        augmented_texts.append(translated_text)\n",
    "\n",
    "    df['title'] = augmented_texts\n",
    "    return df\n"
   ]
  },
  {
   "cell_type": "code",
   "execution_count": 63,
   "metadata": {},
   "outputs": [],
   "source": [
    "def augmentation_backtranslate(tgt_lang, file_in, file_out):\n",
    "    \n",
    "    df = pd.read_csv(file_in)\n",
    "    print(len(df))\n",
    "\n",
    "    options = webdriver.ChromeOptions()\n",
    "    options.add_argument('headless')\n",
    "    # options.add_argument('Mozilla/5.0 (Windows NT 10.0; Win64; x64) AppleWebKit/537.36 (KHTML, like Gecko) Chrome/116.0.0.0 Safari/537.36')\n",
    "    driver = webdriver.Chrome(options=options)\n",
    "    forward = translation(df, 'ko', tgt_lang, driver)\n",
    "    backward = translation(forward, tgt_lang, 'ko', driver)\n",
    "\n",
    "    print(len(backward))\n",
    "\n",
    "    driver.close()\n",
    "\n",
    "    # assert len(text_data) == len(backward)\n",
    "\n",
    "    backward.to_csv(file_out, index=False)\n",
    "\n",
    "    return forward, backward"
   ]
  },
  {
   "cell_type": "code",
   "execution_count": 64,
   "metadata": {},
   "outputs": [
    {
     "name": "stdout",
     "output_type": "stream",
     "text": [
      "280\n"
     ]
    },
    {
     "name": "stderr",
     "output_type": "stream",
     "text": [
      "100%|██████████| 280/280 [08:06<00:00,  1.74s/it]\n",
      "100%|██████████| 280/280 [08:07<00:00,  1.74s/it]\n"
     ]
    },
    {
     "name": "stdout",
     "output_type": "stream",
     "text": [
      "280\n"
     ]
    }
   ],
   "source": [
    "# (대상 언어, 입력 파일명, 출력 파일명)\n",
    "forward, backward = augmentation_backtranslate('ja', 'data/train_low.csv', 'data/train_bt_ja.csv')"
   ]
  },
  {
   "cell_type": "markdown",
   "metadata": {},
   "source": [
    "# Postprocess\n"
   ]
  },
  {
   "cell_type": "markdown",
   "metadata": {},
   "source": [
    "### Check N/A"
   ]
  },
  {
   "cell_type": "code",
   "execution_count": 59,
   "metadata": {},
   "outputs": [],
   "source": [
    "train_df = pd.read_csv('data/train_low.csv')"
   ]
  },
  {
   "cell_type": "markdown",
   "metadata": {},
   "source": [
    "### Merge multiple augmented files"
   ]
  },
  {
   "cell_type": "code",
   "execution_count": 65,
   "metadata": {},
   "outputs": [
    {
     "data": {
      "text/html": [
       "<div>\n",
       "<style scoped>\n",
       "    .dataframe tbody tr th:only-of-type {\n",
       "        vertical-align: middle;\n",
       "    }\n",
       "\n",
       "    .dataframe tbody tr th {\n",
       "        vertical-align: top;\n",
       "    }\n",
       "\n",
       "    .dataframe thead th {\n",
       "        text-align: right;\n",
       "    }\n",
       "</style>\n",
       "<table border=\"1\" class=\"dataframe\">\n",
       "  <thead>\n",
       "    <tr style=\"text-align: right;\">\n",
       "      <th></th>\n",
       "      <th>guid</th>\n",
       "      <th>title</th>\n",
       "      <th>label</th>\n",
       "    </tr>\n",
       "  </thead>\n",
       "  <tbody>\n",
       "    <tr>\n",
       "      <th>0</th>\n",
       "      <td>ynat-v1_train_20804</td>\n",
       "      <td>두산 정수빈은 군 복무 후 마지막 안타 때까지 용병급 활약을 펼쳤다</td>\n",
       "      <td>5</td>\n",
       "    </tr>\n",
       "    <tr>\n",
       "      <th>1</th>\n",
       "      <td>ynat-v1_train_40850</td>\n",
       "      <td>하나금융투자, IT서비스 국제인증 획득</td>\n",
       "      <td>0</td>\n",
       "    </tr>\n",
       "    <tr>\n",
       "      <th>2</th>\n",
       "      <td>ynat-v1_train_15259</td>\n",
       "      <td>한국방송대학교 청각장애학생을 위한 미디어강좌 부제 서비스 제공</td>\n",
       "      <td>2</td>\n",
       "    </tr>\n",
       "    <tr>\n",
       "      <th>3</th>\n",
       "      <td>ynat-v1_train_37602</td>\n",
       "      <td>니카라과 망명 중인 엘살바도르 전 대통령 시민권</td>\n",
       "      <td>4</td>\n",
       "    </tr>\n",
       "    <tr>\n",
       "      <th>4</th>\n",
       "      <td>ynat-v1_train_23775</td>\n",
       "      <td>신우인 목사의 이스라엘 왕 이야기</td>\n",
       "      <td>3</td>\n",
       "    </tr>\n",
       "    <tr>\n",
       "      <th>...</th>\n",
       "      <td>...</td>\n",
       "      <td>...</td>\n",
       "      <td>...</td>\n",
       "    </tr>\n",
       "    <tr>\n",
       "      <th>275</th>\n",
       "      <td>ynat-v1_train_12293</td>\n",
       "      <td>독일 프리랜서 기자 세월호 다큐멘터리 베를린 등서 상영</td>\n",
       "      <td>4</td>\n",
       "    </tr>\n",
       "    <tr>\n",
       "      <th>276</th>\n",
       "      <td>ynat-v1_train_20900</td>\n",
       "      <td>질의응답 한인섭 한국형사정책연구원장</td>\n",
       "      <td>2</td>\n",
       "    </tr>\n",
       "    <tr>\n",
       "      <th>277</th>\n",
       "      <td>ynat-v1_train_22610</td>\n",
       "      <td>이란군 최신 구축함 등 해군 함대 3월부터 5개월간 대서양 항해</td>\n",
       "      <td>4</td>\n",
       "    </tr>\n",
       "    <tr>\n",
       "      <th>278</th>\n",
       "      <td>ynat-v1_train_10964</td>\n",
       "      <td>김학의 법원행정처장 재정신청 기각, 더 이상 볼 일 아니다</td>\n",
       "      <td>2</td>\n",
       "    </tr>\n",
       "    <tr>\n",
       "      <th>279</th>\n",
       "      <td>ynat-v1_train_04404</td>\n",
       "      <td>이정현-우병우 거취 검찰 수사 마무리해야</td>\n",
       "      <td>2</td>\n",
       "    </tr>\n",
       "  </tbody>\n",
       "</table>\n",
       "<p>828 rows × 3 columns</p>\n",
       "</div>"
      ],
      "text/plain": [
       "                    guid                                  title  label\n",
       "0    ynat-v1_train_20804  두산 정수빈은 군 복무 후 마지막 안타 때까지 용병급 활약을 펼쳤다      5\n",
       "1    ynat-v1_train_40850                  하나금융투자, IT서비스 국제인증 획득      0\n",
       "2    ynat-v1_train_15259     한국방송대학교 청각장애학생을 위한 미디어강좌 부제 서비스 제공      2\n",
       "3    ynat-v1_train_37602             니카라과 망명 중인 엘살바도르 전 대통령 시민권      4\n",
       "4    ynat-v1_train_23775                     신우인 목사의 이스라엘 왕 이야기      3\n",
       "..                   ...                                    ...    ...\n",
       "275  ynat-v1_train_12293         독일 프리랜서 기자 세월호 다큐멘터리 베를린 등서 상영      4\n",
       "276  ynat-v1_train_20900                    질의응답 한인섭 한국형사정책연구원장      2\n",
       "277  ynat-v1_train_22610    이란군 최신 구축함 등 해군 함대 3월부터 5개월간 대서양 항해      4\n",
       "278  ynat-v1_train_10964       김학의 법원행정처장 재정신청 기각, 더 이상 볼 일 아니다      2\n",
       "279  ynat-v1_train_04404                 이정현-우병우 거취 검찰 수사 마무리해야      2\n",
       "\n",
       "[828 rows x 3 columns]"
      ]
     },
     "execution_count": 65,
     "metadata": {},
     "output_type": "execute_result"
    }
   ],
   "source": [
    "files = [\n",
    "    'data/train_bt_en.csv',\n",
    "    'data/train_bt_ja.csv',\n",
    "    'data/train_bt_cn.csv',\n",
    "]\n",
    "\n",
    "aug_df = pd.concat([pd.read_csv(file) for file in files])\n",
    "aug_df.drop_duplicates(subset=['title'], inplace=True)\n",
    "aug_df"
   ]
  },
  {
   "cell_type": "code",
   "execution_count": 66,
   "metadata": {},
   "outputs": [
    {
     "data": {
      "text/html": [
       "<div>\n",
       "<style scoped>\n",
       "    .dataframe tbody tr th:only-of-type {\n",
       "        vertical-align: middle;\n",
       "    }\n",
       "\n",
       "    .dataframe tbody tr th {\n",
       "        vertical-align: top;\n",
       "    }\n",
       "\n",
       "    .dataframe thead th {\n",
       "        text-align: right;\n",
       "    }\n",
       "</style>\n",
       "<table border=\"1\" class=\"dataframe\">\n",
       "  <thead>\n",
       "    <tr style=\"text-align: right;\">\n",
       "      <th></th>\n",
       "      <th>guid</th>\n",
       "      <th>title</th>\n",
       "      <th>label</th>\n",
       "    </tr>\n",
       "  </thead>\n",
       "  <tbody>\n",
       "    <tr>\n",
       "      <th>0</th>\n",
       "      <td>ynat-v1_train_20804</td>\n",
       "      <td>두산 정수빈은 군 복무 후 마지막 안타 때까지 용병급 활약을 펼쳤다</td>\n",
       "      <td>5</td>\n",
       "    </tr>\n",
       "    <tr>\n",
       "      <th>1</th>\n",
       "      <td>ynat-v1_train_40850</td>\n",
       "      <td>하나금융투자, IT서비스 국제인증 획득</td>\n",
       "      <td>0</td>\n",
       "    </tr>\n",
       "    <tr>\n",
       "      <th>2</th>\n",
       "      <td>ynat-v1_train_15259</td>\n",
       "      <td>한국방송대학교 청각장애학생을 위한 미디어강좌 부제 서비스 제공</td>\n",
       "      <td>2</td>\n",
       "    </tr>\n",
       "    <tr>\n",
       "      <th>3</th>\n",
       "      <td>ynat-v1_train_37602</td>\n",
       "      <td>니카라과 망명 중인 엘살바도르 전 대통령 시민권</td>\n",
       "      <td>4</td>\n",
       "    </tr>\n",
       "    <tr>\n",
       "      <th>4</th>\n",
       "      <td>ynat-v1_train_23775</td>\n",
       "      <td>신우인 목사의 이스라엘 왕 이야기</td>\n",
       "      <td>3</td>\n",
       "    </tr>\n",
       "    <tr>\n",
       "      <th>...</th>\n",
       "      <td>...</td>\n",
       "      <td>...</td>\n",
       "      <td>...</td>\n",
       "    </tr>\n",
       "    <tr>\n",
       "      <th>275</th>\n",
       "      <td>ynat-v1_train_12293</td>\n",
       "      <td>독일 프리랜서 기자 세월호 다큐멘터리 베를린 등서 상영</td>\n",
       "      <td>4</td>\n",
       "    </tr>\n",
       "    <tr>\n",
       "      <th>276</th>\n",
       "      <td>ynat-v1_train_20900</td>\n",
       "      <td>질의응답 한인섭 한국형사정책연구원장</td>\n",
       "      <td>2</td>\n",
       "    </tr>\n",
       "    <tr>\n",
       "      <th>277</th>\n",
       "      <td>ynat-v1_train_22610</td>\n",
       "      <td>이란군 최신 구축함 등 해군 함대 3월부터 5개월간 대서양 항해</td>\n",
       "      <td>4</td>\n",
       "    </tr>\n",
       "    <tr>\n",
       "      <th>278</th>\n",
       "      <td>ynat-v1_train_10964</td>\n",
       "      <td>김학의 법원행정처장 재정신청 기각, 더 이상 볼 일 아니다</td>\n",
       "      <td>2</td>\n",
       "    </tr>\n",
       "    <tr>\n",
       "      <th>279</th>\n",
       "      <td>ynat-v1_train_04404</td>\n",
       "      <td>이정현-우병우 거취 검찰 수사 마무리해야</td>\n",
       "      <td>2</td>\n",
       "    </tr>\n",
       "  </tbody>\n",
       "</table>\n",
       "<p>794 rows × 3 columns</p>\n",
       "</div>"
      ],
      "text/plain": [
       "                    guid                                  title  label\n",
       "0    ynat-v1_train_20804  두산 정수빈은 군 복무 후 마지막 안타 때까지 용병급 활약을 펼쳤다      5\n",
       "1    ynat-v1_train_40850                  하나금융투자, IT서비스 국제인증 획득      0\n",
       "2    ynat-v1_train_15259     한국방송대학교 청각장애학생을 위한 미디어강좌 부제 서비스 제공      2\n",
       "3    ynat-v1_train_37602             니카라과 망명 중인 엘살바도르 전 대통령 시민권      4\n",
       "4    ynat-v1_train_23775                     신우인 목사의 이스라엘 왕 이야기      3\n",
       "..                   ...                                    ...    ...\n",
       "275  ynat-v1_train_12293         독일 프리랜서 기자 세월호 다큐멘터리 베를린 등서 상영      4\n",
       "276  ynat-v1_train_20900                    질의응답 한인섭 한국형사정책연구원장      2\n",
       "277  ynat-v1_train_22610    이란군 최신 구축함 등 해군 함대 3월부터 5개월간 대서양 항해      4\n",
       "278  ynat-v1_train_10964       김학의 법원행정처장 재정신청 기각, 더 이상 볼 일 아니다      2\n",
       "279  ynat-v1_train_04404                 이정현-우병우 거취 검찰 수사 마무리해야      2\n",
       "\n",
       "[794 rows x 3 columns]"
      ]
     },
     "execution_count": 66,
     "metadata": {},
     "output_type": "execute_result"
    }
   ],
   "source": [
    "# Train data에 있는 데이터는 제외\n",
    "aug_df = aug_df[~aug_df['title'].isin(train_df['title'])]\n",
    "aug_df"
   ]
  },
  {
   "cell_type": "code",
   "execution_count": 71,
   "metadata": {},
   "outputs": [
    {
     "data": {
      "text/plain": [
       "ynat-v1_train_00401    2\n",
       "ynat-v1_train_30431    2\n",
       "ynat-v1_train_32512    2\n",
       "ynat-v1_train_31643    2\n",
       "ynat-v1_train_31219    2\n",
       "                      ..\n",
       "ynat-v1_train_16521    2\n",
       "ynat-v1_train_16652    2\n",
       "ynat-v1_train_16736    2\n",
       "ynat-v1_train_16784    2\n",
       "ynat-v1_train_45546    2\n",
       "Name: guid, Length: 280, dtype: int64"
      ]
     },
     "execution_count": 71,
     "metadata": {},
     "output_type": "execute_result"
    }
   ],
   "source": [
    "num_aug = 2\n",
    "# sample num_aug data from each guid\n",
    "aug_df = aug_df.groupby('guid').head(num_aug)\n",
    "aug_df['guid'].value_counts()"
   ]
  },
  {
   "cell_type": "code",
   "execution_count": 74,
   "metadata": {},
   "outputs": [],
   "source": [
    "aug_df = pd.concat([train_df, aug_df])\n",
    "aug_df.sort_values(by=['guid'], inplace=True, kind='mergesort')\n",
    "aug_df.to_csv('data/train_bt_2.csv', index=False)"
   ]
  }
 ],
 "metadata": {
  "kernelspec": {
   "display_name": "pytorch",
   "language": "python",
   "name": "python3"
  },
  "language_info": {
   "codemirror_mode": {
    "name": "ipython",
    "version": 3
   },
   "file_extension": ".py",
   "mimetype": "text/x-python",
   "name": "python",
   "nbconvert_exporter": "python",
   "pygments_lexer": "ipython3",
   "version": "3.9.13"
  },
  "orig_nbformat": 4
 },
 "nbformat": 4,
 "nbformat_minor": 2
}
