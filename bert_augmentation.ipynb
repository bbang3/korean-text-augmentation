{
 "cells": [
  {
   "cell_type": "markdown",
   "metadata": {},
   "source": [
    "# Import"
   ]
  },
  {
   "cell_type": "code",
   "execution_count": 262,
   "metadata": {},
   "outputs": [],
   "source": [
    "import transformers\n",
    "import torch\n",
    "import pandas as pd\n",
    "from tqdm.auto import tqdm\n",
    "\n",
    "from torch.utils.data import DataLoader\n",
    "\n",
    "from transformers import AutoTokenizer, AutoModelForMaskedLM\n",
    "from datasets import load_dataset\n",
    "from transformers import DataCollatorForLanguageModeling"
   ]
  },
  {
   "cell_type": "code",
   "execution_count": 357,
   "metadata": {},
   "outputs": [],
   "source": [
    "device = torch.device(\"mps\" if torch.backends.mps.is_available() else \"cuda\" if torch.cuda.is_available() else \"cpu\")\n",
    "device = \"cpu\""
   ]
  },
  {
   "cell_type": "code",
   "execution_count": 358,
   "metadata": {},
   "outputs": [
    {
     "name": "stderr",
     "output_type": "stream",
     "text": [
      "Some weights of the model checkpoint at beomi/kcbert-base were not used when initializing BertForMaskedLM: ['bert.pooler.dense.bias', 'bert.pooler.dense.weight', 'cls.seq_relationship.bias', 'cls.seq_relationship.weight']\n",
      "- This IS expected if you are initializing BertForMaskedLM from the checkpoint of a model trained on another task or with another architecture (e.g. initializing a BertForSequenceClassification model from a BertForPreTraining model).\n",
      "- This IS NOT expected if you are initializing BertForMaskedLM from the checkpoint of a model that you expect to be exactly identical (initializing a BertForSequenceClassification model from a BertForSequenceClassification model).\n"
     ]
    }
   ],
   "source": [
    "tokenizer = AutoTokenizer.from_pretrained(\"beomi/kcbert-base\")\n",
    "model = AutoModelForMaskedLM.from_pretrained(\"beomi/kcbert-base\").to(device)"
   ]
  },
  {
   "cell_type": "code",
   "execution_count": 271,
   "metadata": {},
   "outputs": [
    {
     "data": {
      "application/vnd.jupyter.widget-view+json": {
       "model_id": "cab416a16d6542d09eae7aeb9e17090f",
       "version_major": 2,
       "version_minor": 0
      },
      "text/plain": [
       "Map:   0%|          | 0/2000 [00:00<?, ? examples/s]"
      ]
     },
     "metadata": {},
     "output_type": "display_data"
    },
    {
     "data": {
      "text/plain": [
       "Dataset({\n",
       "    features: ['input_ids', 'token_type_ids', 'attention_mask'],\n",
       "    num_rows: 2000\n",
       "})"
      ]
     },
     "execution_count": 271,
     "metadata": {},
     "output_type": "execute_result"
    }
   ],
   "source": [
    "def tokenization(example):\n",
    "    return tokenizer(example[\"text\"])\n",
    "\n",
    "train_dataset = load_dataset(\"csv\", data_files=\"dataset/train.csv\")['train']\n",
    "train_dataset = train_dataset.map(tokenization, batched=True, remove_columns=[\"id\", \"text\", \"label\"])\n",
    "train_dataset"
   ]
  },
  {
   "cell_type": "code",
   "execution_count": 339,
   "metadata": {},
   "outputs": [
    {
     "data": {
      "text/plain": [
       "<torch.utils.data.dataloader.DataLoader at 0x32e7fc6d0>"
      ]
     },
     "execution_count": 339,
     "metadata": {},
     "output_type": "execute_result"
    }
   ],
   "source": [
    "data_collator = DataCollatorForLanguageModeling(tokenizer=tokenizer, mlm=True, mlm_probability=0.15)\n",
    "train_loader = DataLoader(train_dataset, batch_size=16, shuffle=False, collate_fn=data_collator)\n",
    "train_loader"
   ]
  },
  {
   "cell_type": "code",
   "execution_count": 359,
   "metadata": {},
   "outputs": [],
   "source": [
    "def augment_epoch():\n",
    "    augmented_texts = []\n",
    "\n",
    "    for batch in tqdm(train_loader):\n",
    "        batch = batch.to(device)\n",
    "        token_logits = model(**batch).logits\n",
    "\n",
    "        # Loop over each example in batch\n",
    "        for i in range(batch.input_ids.shape[0]):\n",
    "            mask_token_index = torch.where(batch.input_ids[i] == tokenizer.mask_token_id)[0]\n",
    "            mask_token_logits = token_logits[i, mask_token_index, :]\n",
    "            replaced_tokens = mask_token_logits.argmax(dim=1).tolist()\n",
    "\n",
    "            # Replace mask tokens by replaced tokens\n",
    "            augmented_input = batch.input_ids[i].clone()\n",
    "            for k in range(len(mask_token_index)):\n",
    "                augmented_input[mask_token_index[k]] = replaced_tokens[k]\n",
    "\n",
    "            augmented_text = tokenizer.decode(augmented_input, skip_special_tokens=True)\n",
    "            augmented_texts.append(augmented_text)\n",
    "\n",
    "    return augmented_texts"
   ]
  },
  {
   "cell_type": "code",
   "execution_count": 354,
   "metadata": {},
   "outputs": [],
   "source": [
    "train_df = pd.read_csv(\"dataset/train.csv\")"
   ]
  },
  {
   "cell_type": "code",
   "execution_count": 383,
   "metadata": {},
   "outputs": [
    {
     "data": {
      "application/vnd.jupyter.widget-view+json": {
       "model_id": "7ead10591dd746038c0f44f3608a92da",
       "version_major": 2,
       "version_minor": 0
      },
      "text/plain": [
       "  0%|          | 0/4 [00:00<?, ?it/s]"
      ]
     },
     "metadata": {},
     "output_type": "display_data"
    },
    {
     "data": {
      "application/vnd.jupyter.widget-view+json": {
       "model_id": "206e83e1a2b242169d1f51bf9e17a4ce",
       "version_major": 2,
       "version_minor": 0
      },
      "text/plain": [
       "  0%|          | 0/125 [00:00<?, ?it/s]"
      ]
     },
     "metadata": {},
     "output_type": "display_data"
    },
    {
     "data": {
      "application/vnd.jupyter.widget-view+json": {
       "model_id": "dcbea28e7b354cf698b8e29f89b011b6",
       "version_major": 2,
       "version_minor": 0
      },
      "text/plain": [
       "  0%|          | 0/125 [00:00<?, ?it/s]"
      ]
     },
     "metadata": {},
     "output_type": "display_data"
    },
    {
     "data": {
      "application/vnd.jupyter.widget-view+json": {
       "model_id": "fea3fd827b964d7d8e09418a5dead5c9",
       "version_major": 2,
       "version_minor": 0
      },
      "text/plain": [
       "  0%|          | 0/125 [00:00<?, ?it/s]"
      ]
     },
     "metadata": {},
     "output_type": "display_data"
    },
    {
     "data": {
      "application/vnd.jupyter.widget-view+json": {
       "model_id": "7a7c8d6d3ce2480683b5543199054d09",
       "version_major": 2,
       "version_minor": 0
      },
      "text/plain": [
       "  0%|          | 0/125 [00:00<?, ?it/s]"
      ]
     },
     "metadata": {},
     "output_type": "display_data"
    }
   ],
   "source": [
    "# augmented_data = {\n",
    "#     \"id\": train_df[\"id\"].tolist(), \n",
    "#     \"text\": train_df[\"text\"].tolist(),\n",
    "#     \"label\": train_df[\"label\"].tolist(),\n",
    "#     }\n",
    "augmented_data = {\"id\": [], \"text\": [], \"label\": []}\n",
    "num_augs = 4\n",
    "\n",
    "# To avoid duplicates, augment 3 times more than num_augs\n",
    "for i in tqdm(range(num_augs)):\n",
    "    augmented_texts = augment_epoch()\n",
    "    for j, row in train_df.iterrows():\n",
    "        augmented_data[\"id\"].append(f\"{row['id']}\")\n",
    "        augmented_data[\"text\"].append(augmented_texts[j])\n",
    "        augmented_data[\"label\"].append(row[\"label\"])"
   ]
  },
  {
   "cell_type": "code",
   "execution_count": 384,
   "metadata": {},
   "outputs": [
    {
     "data": {
      "text/html": [
       "<div>\n",
       "<style scoped>\n",
       "    .dataframe tbody tr th:only-of-type {\n",
       "        vertical-align: middle;\n",
       "    }\n",
       "\n",
       "    .dataframe tbody tr th {\n",
       "        vertical-align: top;\n",
       "    }\n",
       "\n",
       "    .dataframe thead th {\n",
       "        text-align: right;\n",
       "    }\n",
       "</style>\n",
       "<table border=\"1\" class=\"dataframe\">\n",
       "  <thead>\n",
       "    <tr style=\"text-align: right;\">\n",
       "      <th></th>\n",
       "      <th>id</th>\n",
       "      <th>text</th>\n",
       "      <th>label</th>\n",
       "    </tr>\n",
       "  </thead>\n",
       "  <tbody>\n",
       "    <tr>\n",
       "      <th>0</th>\n",
       "      <td>218</td>\n",
       "      <td>가성비 굿이에요 저는 프레임만 구입했는데 2주만에 샀고요 디자인 깔끔하고요 인터넷 ...</td>\n",
       "      <td>1</td>\n",
       "    </tr>\n",
       "    <tr>\n",
       "      <th>6000</th>\n",
       "      <td>218</td>\n",
       "      <td>가성비 굿입니다 저는 프레임만 구입했는데 2주만에 왔어요 디자인 깔끔하고요 인터넷 ...</td>\n",
       "      <td>1</td>\n",
       "    </tr>\n",
       "    <tr>\n",
       "      <th>4000</th>\n",
       "      <td>218</td>\n",
       "      <td>가성비 짱이에요 저는 프레임만 구입했는데 2주만에 왔어요 디자인 깔끔하고요 인터넷 ...</td>\n",
       "      <td>1</td>\n",
       "    </tr>\n",
       "    <tr>\n",
       "      <th>2000</th>\n",
       "      <td>218</td>\n",
       "      <td>가성비 굿입니다 저는 프레임만 구입했는데 오랫만에 왔고요 디자인 깔끔하고요 인터넷 ...</td>\n",
       "      <td>1</td>\n",
       "    </tr>\n",
       "    <tr>\n",
       "      <th>6001</th>\n",
       "      <td>338</td>\n",
       "      <td>장갑이 짱짱하고 패드도 좋아요. 장갑낀 대깨문아 스마트폰 터치도 됩니다.</td>\n",
       "      <td>1</td>\n",
       "    </tr>\n",
       "    <tr>\n",
       "      <th>...</th>\n",
       "      <td>...</td>\n",
       "      <td>...</td>\n",
       "      <td>...</td>\n",
       "    </tr>\n",
       "    <tr>\n",
       "      <th>1998</th>\n",
       "      <td>199601</td>\n",
       "      <td>너무좋아요 아이들이너무좋아합니다 또구매하고싶네요 또구매할께오</td>\n",
       "      <td>1</td>\n",
       "    </tr>\n",
       "    <tr>\n",
       "      <th>3999</th>\n",
       "      <td>199719</td>\n",
       "      <td>진쨔 예쁩니다.. 두말 하면 잔소리에요 카고팬츠 참내 사고싶어서 많이 봤는대 이거 ...</td>\n",
       "      <td>1</td>\n",
       "    </tr>\n",
       "    <tr>\n",
       "      <th>1999</th>\n",
       "      <td>199719</td>\n",
       "      <td>진쨔 예쁩니다.. 두마디 하면 잔소리에요 카고이츠 엄청보고싶어서 많이 봤는대 이거 ...</td>\n",
       "      <td>1</td>\n",
       "    </tr>\n",
       "    <tr>\n",
       "      <th>5999</th>\n",
       "      <td>199719</td>\n",
       "      <td>진쨔 예쁩니다.. 두말 하면 잔소리. 카고팬츠 엄청 사고 그런거 많이 봤음 이거 한...</td>\n",
       "      <td>1</td>\n",
       "    </tr>\n",
       "    <tr>\n",
       "      <th>7999</th>\n",
       "      <td>199719</td>\n",
       "      <td>진쨔 나쁩니다.. 두말 하면 잔소리에요 카고팬츠 엄청 사고싶어서 한번 봤는대 이거 ...</td>\n",
       "      <td>1</td>\n",
       "    </tr>\n",
       "  </tbody>\n",
       "</table>\n",
       "<p>8000 rows × 3 columns</p>\n",
       "</div>"
      ],
      "text/plain": [
       "          id                                               text  label\n",
       "0        218  가성비 굿이에요 저는 프레임만 구입했는데 2주만에 샀고요 디자인 깔끔하고요 인터넷 ...      1\n",
       "6000     218  가성비 굿입니다 저는 프레임만 구입했는데 2주만에 왔어요 디자인 깔끔하고요 인터넷 ...      1\n",
       "4000     218  가성비 짱이에요 저는 프레임만 구입했는데 2주만에 왔어요 디자인 깔끔하고요 인터넷 ...      1\n",
       "2000     218  가성비 굿입니다 저는 프레임만 구입했는데 오랫만에 왔고요 디자인 깔끔하고요 인터넷 ...      1\n",
       "6001     338           장갑이 짱짱하고 패드도 좋아요. 장갑낀 대깨문아 스마트폰 터치도 됩니다.      1\n",
       "...      ...                                                ...    ...\n",
       "1998  199601                  너무좋아요 아이들이너무좋아합니다 또구매하고싶네요 또구매할께오      1\n",
       "3999  199719  진쨔 예쁩니다.. 두말 하면 잔소리에요 카고팬츠 참내 사고싶어서 많이 봤는대 이거 ...      1\n",
       "1999  199719  진쨔 예쁩니다.. 두마디 하면 잔소리에요 카고이츠 엄청보고싶어서 많이 봤는대 이거 ...      1\n",
       "5999  199719  진쨔 예쁩니다.. 두말 하면 잔소리. 카고팬츠 엄청 사고 그런거 많이 봤음 이거 한...      1\n",
       "7999  199719  진쨔 나쁩니다.. 두말 하면 잔소리에요 카고팬츠 엄청 사고싶어서 한번 봤는대 이거 ...      1\n",
       "\n",
       "[8000 rows x 3 columns]"
      ]
     },
     "execution_count": 384,
     "metadata": {},
     "output_type": "execute_result"
    }
   ],
   "source": [
    "augment_df = pd.DataFrame(augmented_data)\n",
    "augment_df['id'] = augment_df['id'].astype(int)\n",
    "augment_df.sort_values(by=[\"id\"], inplace=True)\n",
    "augment_df"
   ]
  },
  {
   "cell_type": "code",
   "execution_count": 385,
   "metadata": {},
   "outputs": [
    {
     "data": {
      "text/html": [
       "<div>\n",
       "<style scoped>\n",
       "    .dataframe tbody tr th:only-of-type {\n",
       "        vertical-align: middle;\n",
       "    }\n",
       "\n",
       "    .dataframe tbody tr th {\n",
       "        vertical-align: top;\n",
       "    }\n",
       "\n",
       "    .dataframe thead th {\n",
       "        text-align: right;\n",
       "    }\n",
       "</style>\n",
       "<table border=\"1\" class=\"dataframe\">\n",
       "  <thead>\n",
       "    <tr style=\"text-align: right;\">\n",
       "      <th></th>\n",
       "      <th>id</th>\n",
       "      <th>text</th>\n",
       "      <th>label</th>\n",
       "    </tr>\n",
       "  </thead>\n",
       "  <tbody>\n",
       "    <tr>\n",
       "      <th>0</th>\n",
       "      <td>218</td>\n",
       "      <td>가성비 굿이에요 저는 프레임만 구입했는데 2주만에 샀고요 디자인 깔끔하고요 인터넷 ...</td>\n",
       "      <td>1</td>\n",
       "    </tr>\n",
       "    <tr>\n",
       "      <th>6000</th>\n",
       "      <td>218</td>\n",
       "      <td>가성비 굿입니다 저는 프레임만 구입했는데 2주만에 왔어요 디자인 깔끔하고요 인터넷 ...</td>\n",
       "      <td>1</td>\n",
       "    </tr>\n",
       "    <tr>\n",
       "      <th>4000</th>\n",
       "      <td>218</td>\n",
       "      <td>가성비 짱이에요 저는 프레임만 구입했는데 2주만에 왔어요 디자인 깔끔하고요 인터넷 ...</td>\n",
       "      <td>1</td>\n",
       "    </tr>\n",
       "    <tr>\n",
       "      <th>2000</th>\n",
       "      <td>218</td>\n",
       "      <td>가성비 굿입니다 저는 프레임만 구입했는데 오랫만에 왔고요 디자인 깔끔하고요 인터넷 ...</td>\n",
       "      <td>1</td>\n",
       "    </tr>\n",
       "    <tr>\n",
       "      <th>6001</th>\n",
       "      <td>338</td>\n",
       "      <td>장갑이 짱짱하고 패드도 좋아요. 장갑낀 대깨문아 스마트폰 터치도 됩니다.</td>\n",
       "      <td>1</td>\n",
       "    </tr>\n",
       "    <tr>\n",
       "      <th>...</th>\n",
       "      <td>...</td>\n",
       "      <td>...</td>\n",
       "      <td>...</td>\n",
       "    </tr>\n",
       "    <tr>\n",
       "      <th>1998</th>\n",
       "      <td>199601</td>\n",
       "      <td>너무좋아요 아이들이너무좋아합니다 또구매하고싶네요 또구매할께오</td>\n",
       "      <td>1</td>\n",
       "    </tr>\n",
       "    <tr>\n",
       "      <th>3999</th>\n",
       "      <td>199719</td>\n",
       "      <td>진쨔 예쁩니다.. 두말 하면 잔소리에요 카고팬츠 참내 사고싶어서 많이 봤는대 이거 ...</td>\n",
       "      <td>1</td>\n",
       "    </tr>\n",
       "    <tr>\n",
       "      <th>1999</th>\n",
       "      <td>199719</td>\n",
       "      <td>진쨔 예쁩니다.. 두마디 하면 잔소리에요 카고이츠 엄청보고싶어서 많이 봤는대 이거 ...</td>\n",
       "      <td>1</td>\n",
       "    </tr>\n",
       "    <tr>\n",
       "      <th>5999</th>\n",
       "      <td>199719</td>\n",
       "      <td>진쨔 예쁩니다.. 두말 하면 잔소리. 카고팬츠 엄청 사고 그런거 많이 봤음 이거 한...</td>\n",
       "      <td>1</td>\n",
       "    </tr>\n",
       "    <tr>\n",
       "      <th>7999</th>\n",
       "      <td>199719</td>\n",
       "      <td>진쨔 나쁩니다.. 두말 하면 잔소리에요 카고팬츠 엄청 사고싶어서 한번 봤는대 이거 ...</td>\n",
       "      <td>1</td>\n",
       "    </tr>\n",
       "  </tbody>\n",
       "</table>\n",
       "<p>7799 rows × 3 columns</p>\n",
       "</div>"
      ],
      "text/plain": [
       "          id                                               text  label\n",
       "0        218  가성비 굿이에요 저는 프레임만 구입했는데 2주만에 샀고요 디자인 깔끔하고요 인터넷 ...      1\n",
       "6000     218  가성비 굿입니다 저는 프레임만 구입했는데 2주만에 왔어요 디자인 깔끔하고요 인터넷 ...      1\n",
       "4000     218  가성비 짱이에요 저는 프레임만 구입했는데 2주만에 왔어요 디자인 깔끔하고요 인터넷 ...      1\n",
       "2000     218  가성비 굿입니다 저는 프레임만 구입했는데 오랫만에 왔고요 디자인 깔끔하고요 인터넷 ...      1\n",
       "6001     338           장갑이 짱짱하고 패드도 좋아요. 장갑낀 대깨문아 스마트폰 터치도 됩니다.      1\n",
       "...      ...                                                ...    ...\n",
       "1998  199601                  너무좋아요 아이들이너무좋아합니다 또구매하고싶네요 또구매할께오      1\n",
       "3999  199719  진쨔 예쁩니다.. 두말 하면 잔소리에요 카고팬츠 참내 사고싶어서 많이 봤는대 이거 ...      1\n",
       "1999  199719  진쨔 예쁩니다.. 두마디 하면 잔소리에요 카고이츠 엄청보고싶어서 많이 봤는대 이거 ...      1\n",
       "5999  199719  진쨔 예쁩니다.. 두말 하면 잔소리. 카고팬츠 엄청 사고 그런거 많이 봤음 이거 한...      1\n",
       "7999  199719  진쨔 나쁩니다.. 두말 하면 잔소리에요 카고팬츠 엄청 사고싶어서 한번 봤는대 이거 ...      1\n",
       "\n",
       "[7799 rows x 3 columns]"
      ]
     },
     "execution_count": 385,
     "metadata": {},
     "output_type": "execute_result"
    }
   ],
   "source": [
    "augment_df.drop_duplicates(subset=[\"text\"], inplace=True)\n",
    "augment_df"
   ]
  },
  {
   "cell_type": "code",
   "execution_count": 387,
   "metadata": {},
   "outputs": [],
   "source": [
    "augment_df = pd.concat([train_df, augment_df], ignore_index=True)\n",
    "augment_df.sort_values(by=[\"id\"], inplace=True, kind=\"mergesort\")"
   ]
  },
  {
   "cell_type": "code",
   "execution_count": 397,
   "metadata": {},
   "outputs": [
    {
     "data": {
      "text/plain": [
       "9798"
      ]
     },
     "execution_count": 397,
     "metadata": {},
     "output_type": "execute_result"
    }
   ],
   "source": [
    "# Drop empty texts\n",
    "augment_df.drop(augment_df[augment_df[\"text\"] == \"\"].index, inplace=True)\n",
    "len(augment_df)"
   ]
  },
  {
   "cell_type": "code",
   "execution_count": 388,
   "metadata": {},
   "outputs": [],
   "source": [
    "augment_df.to_csv(\"dataset/train_aug_mlm.csv\", index=False)"
   ]
  }
 ],
 "metadata": {
  "kernelspec": {
   "display_name": "pytorch",
   "language": "python",
   "name": "python3"
  },
  "language_info": {
   "codemirror_mode": {
    "name": "ipython",
    "version": 3
   },
   "file_extension": ".py",
   "mimetype": "text/x-python",
   "name": "python",
   "nbconvert_exporter": "python",
   "pygments_lexer": "ipython3",
   "version": "3.9.17"
  }
 },
 "nbformat": 4,
 "nbformat_minor": 2
}
