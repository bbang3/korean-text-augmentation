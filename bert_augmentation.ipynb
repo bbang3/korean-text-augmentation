{
 "cells": [
  {
   "cell_type": "markdown",
   "metadata": {},
   "source": [
    "# Import"
   ]
  },
  {
   "cell_type": "code",
   "execution_count": 262,
   "metadata": {},
   "outputs": [],
   "source": [
    "import transformers\n",
    "import torch\n",
    "import pandas as pd\n",
    "from tqdm.auto import tqdm\n",
    "\n",
    "from torch.utils.data import DataLoader\n",
    "\n",
    "from transformers import AutoTokenizer, AutoModelForMaskedLM\n",
    "from datasets import load_dataset\n",
    "from transformers import DataCollatorForLanguageModeling"
   ]
  },
  {
   "cell_type": "code",
   "execution_count": 357,
   "metadata": {},
   "outputs": [],
   "source": [
    "device = torch.device(\"mps\" if torch.backends.mps.is_available() else \"cuda\" if torch.cuda.is_available() else \"cpu\")\n",
    "device = \"cpu\""
   ]
  },
  {
   "cell_type": "code",
   "execution_count": 358,
   "metadata": {},
   "outputs": [
    {
     "name": "stderr",
     "output_type": "stream",
     "text": [
      "Some weights of the model checkpoint at beomi/kcbert-base were not used when initializing BertForMaskedLM: ['bert.pooler.dense.bias', 'bert.pooler.dense.weight', 'cls.seq_relationship.bias', 'cls.seq_relationship.weight']\n",
      "- This IS expected if you are initializing BertForMaskedLM from the checkpoint of a model trained on another task or with another architecture (e.g. initializing a BertForSequenceClassification model from a BertForPreTraining model).\n",
      "- This IS NOT expected if you are initializing BertForMaskedLM from the checkpoint of a model that you expect to be exactly identical (initializing a BertForSequenceClassification model from a BertForSequenceClassification model).\n"
     ]
    }
   ],
   "source": [
    "tokenizer = AutoTokenizer.from_pretrained(\"beomi/kcbert-base\")\n",
    "model = AutoModelForMaskedLM.from_pretrained(\"beomi/kcbert-base\").to(device)"
   ]
  },
  {
   "cell_type": "code",
   "execution_count": 271,
   "metadata": {},
   "outputs": [
    {
     "data": {
      "application/vnd.jupyter.widget-view+json": {
       "model_id": "cab416a16d6542d09eae7aeb9e17090f",
       "version_major": 2,
       "version_minor": 0
      },
      "text/plain": [
       "Map:   0%|          | 0/2000 [00:00<?, ? examples/s]"
      ]
     },
     "metadata": {},
     "output_type": "display_data"
    },
    {
     "data": {
      "text/plain": [
       "Dataset({\n",
       "    features: ['input_ids', 'token_type_ids', 'attention_mask'],\n",
       "    num_rows: 2000\n",
       "})"
      ]
     },
     "execution_count": 271,
     "metadata": {},
     "output_type": "execute_result"
    }
   ],
   "source": [
    "def tokenization(example):\n",
    "    return tokenizer(example[\"text\"])\n",
    "\n",
    "train_dataset = load_dataset(\"csv\", data_files=\"dataset/train.csv\")['train']\n",
    "train_dataset = train_dataset.map(tokenization, batched=True, remove_columns=[\"id\", \"text\", \"label\"])\n",
    "train_dataset"
   ]
  },
  {
   "cell_type": "code",
   "execution_count": 339,
   "metadata": {},
   "outputs": [
    {
     "data": {
      "text/plain": [
       "<torch.utils.data.dataloader.DataLoader at 0x32e7fc6d0>"
      ]
     },
     "execution_count": 339,
     "metadata": {},
     "output_type": "execute_result"
    }
   ],
   "source": [
    "data_collator = DataCollatorForLanguageModeling(tokenizer=tokenizer, mlm=True, mlm_probability=0.15)\n",
    "train_loader = DataLoader(train_dataset, batch_size=16, shuffle=False, collate_fn=data_collator)\n",
    "train_loader"
   ]
  },
  {
   "cell_type": "code",
   "execution_count": 359,
   "metadata": {},
   "outputs": [],
   "source": [
    "def augment_epoch():\n",
    "    augmented_texts = []\n",
    "\n",
    "    for batch in tqdm(train_loader):\n",
    "        batch = batch.to(device)\n",
    "        token_logits = model(**batch).logits\n",
    "\n",
    "        # Loop over each example in batch\n",
    "        for i in range(batch.input_ids.shape[0]):\n",
    "            mask_token_index = torch.where(batch.input_ids[i] == tokenizer.mask_token_id)[0]\n",
    "            mask_token_logits = token_logits[i, mask_token_index, :]\n",
    "            replaced_tokens = mask_token_logits.argmax(dim=1).tolist()\n",
    "\n",
    "            # Replace mask tokens by replaced tokens\n",
    "            augmented_input = batch.input_ids[i].clone()\n",
    "            for k in range(len(mask_token_index)):\n",
    "                augmented_input[mask_token_index[k]] = replaced_tokens[k]\n",
    "\n",
    "            augmented_text = tokenizer.decode(augmented_input, skip_special_tokens=True)\n",
    "            augmented_texts.append(augmented_text)\n",
    "\n",
    "    return augmented_texts"
   ]
  },
  {
   "cell_type": "code",
   "execution_count": 354,
   "metadata": {},
   "outputs": [],
   "source": [
    "train_df = pd.read_csv(\"dataset/train.csv\")"
   ]
  },
  {
   "cell_type": "code",
   "execution_count": 370,
   "metadata": {},
   "outputs": [
    {
     "data": {
      "application/vnd.jupyter.widget-view+json": {
       "model_id": "26ea718bdc6e412d9ec27ffb36924084",
       "version_major": 2,
       "version_minor": 0
      },
      "text/plain": [
       "  0%|          | 0/8 [00:00<?, ?it/s]"
      ]
     },
     "metadata": {},
     "output_type": "display_data"
    },
    {
     "data": {
      "application/vnd.jupyter.widget-view+json": {
       "model_id": "fd4ad80a25cc4ece9838e4965affc0c7",
       "version_major": 2,
       "version_minor": 0
      },
      "text/plain": [
       "  0%|          | 0/125 [00:00<?, ?it/s]"
      ]
     },
     "metadata": {},
     "output_type": "display_data"
    },
    {
     "data": {
      "application/vnd.jupyter.widget-view+json": {
       "model_id": "98181ab1c03e49a89855f66c352b0ca3",
       "version_major": 2,
       "version_minor": 0
      },
      "text/plain": [
       "  0%|          | 0/125 [00:00<?, ?it/s]"
      ]
     },
     "metadata": {},
     "output_type": "display_data"
    },
    {
     "data": {
      "application/vnd.jupyter.widget-view+json": {
       "model_id": "fadf3f542e6447429234541c09c11617",
       "version_major": 2,
       "version_minor": 0
      },
      "text/plain": [
       "  0%|          | 0/125 [00:00<?, ?it/s]"
      ]
     },
     "metadata": {},
     "output_type": "display_data"
    },
    {
     "data": {
      "application/vnd.jupyter.widget-view+json": {
       "model_id": "7b3d80aed03a4027ab37698d7341af66",
       "version_major": 2,
       "version_minor": 0
      },
      "text/plain": [
       "  0%|          | 0/125 [00:00<?, ?it/s]"
      ]
     },
     "metadata": {},
     "output_type": "display_data"
    },
    {
     "data": {
      "application/vnd.jupyter.widget-view+json": {
       "model_id": "3b964c45c1e148d58169748da62694cc",
       "version_major": 2,
       "version_minor": 0
      },
      "text/plain": [
       "  0%|          | 0/125 [00:00<?, ?it/s]"
      ]
     },
     "metadata": {},
     "output_type": "display_data"
    }
   ],
   "source": [
    "# augmented_data = {\n",
    "#     \"id\": train_df[\"id\"].tolist(), \n",
    "#     \"text\": train_df[\"text\"].tolist(),\n",
    "#     \"label\": train_df[\"label\"].tolist(),\n",
    "#     }\n",
    "augmented_data = {\"id\": [], \"text\": [], \"label\": []}\n",
    "num_augs = 4\n",
    "\n",
    "# To avoid duplicates, augment 3 times more than num_augs\n",
    "for i in tqdm(range(num_augs * 2)):\n",
    "    augmented_texts = augment_epoch()\n",
    "    for j, row in train_df.iterrows():\n",
    "        augmented_data[\"id\"].append(f\"{row['id']}\")\n",
    "        augmented_data[\"text\"].append(augmented_texts[j])\n",
    "        augmented_data[\"label\"].append(row[\"label\"])"
   ]
  },
  {
   "cell_type": "code",
   "execution_count": 361,
   "metadata": {},
   "outputs": [
    {
     "data": {
      "text/html": [
       "<div>\n",
       "<style scoped>\n",
       "    .dataframe tbody tr th:only-of-type {\n",
       "        vertical-align: middle;\n",
       "    }\n",
       "\n",
       "    .dataframe tbody tr th {\n",
       "        vertical-align: top;\n",
       "    }\n",
       "\n",
       "    .dataframe thead th {\n",
       "        text-align: right;\n",
       "    }\n",
       "</style>\n",
       "<table border=\"1\" class=\"dataframe\">\n",
       "  <thead>\n",
       "    <tr style=\"text-align: right;\">\n",
       "      <th></th>\n",
       "      <th>id</th>\n",
       "      <th>text</th>\n",
       "      <th>label</th>\n",
       "    </tr>\n",
       "  </thead>\n",
       "  <tbody>\n",
       "    <tr>\n",
       "      <th>0</th>\n",
       "      <td>218</td>\n",
       "      <td>가성비 굿이에요 저는 프레임만 구입했는데 2주만에 왔고요 디자인 깔끔하고요 인터넷 ...</td>\n",
       "      <td>1</td>\n",
       "    </tr>\n",
       "    <tr>\n",
       "      <th>4000</th>\n",
       "      <td>218</td>\n",
       "      <td>가성비 굿입니다 저는 프레임만 구입했는데 2주만에 왔고요 디자인 깔끔하고요 인터넷 ...</td>\n",
       "      <td>1</td>\n",
       "    </tr>\n",
       "    <tr>\n",
       "      <th>22000</th>\n",
       "      <td>218</td>\n",
       "      <td>가성비 굿 전략 저는 프레임만 구입한지 오랫만에 왔고요 디자인 깔끔하고요 인터넷 다...</td>\n",
       "      <td>1</td>\n",
       "    </tr>\n",
       "    <tr>\n",
       "      <th>6000</th>\n",
       "      <td>218</td>\n",
       "      <td>가성비 굿이에요 저는 프레임만 구입했는데 2주만에 왔고요 디자인 깔끔했고요 인터넷 ...</td>\n",
       "      <td>1</td>\n",
       "    </tr>\n",
       "    <tr>\n",
       "      <th>20000</th>\n",
       "      <td>218</td>\n",
       "      <td>가성비 굿이에요 저는 프레임폰 구입했는데 2주만에 왔고요 디자인 깔끔하고요 인터넷 ...</td>\n",
       "      <td>1</td>\n",
       "    </tr>\n",
       "    <tr>\n",
       "      <th>...</th>\n",
       "      <td>...</td>\n",
       "      <td>...</td>\n",
       "      <td>...</td>\n",
       "    </tr>\n",
       "    <tr>\n",
       "      <th>3999</th>\n",
       "      <td>199719</td>\n",
       "      <td>진쨔 예쁩니다.. 두말 하면 잔소리에요 카고팬츠 엄청 사고싶어서 많이 봤는대 이거 ...</td>\n",
       "      <td>1</td>\n",
       "    </tr>\n",
       "    <tr>\n",
       "      <th>21999</th>\n",
       "      <td>199719</td>\n",
       "      <td>진쨔 예쁩니다.. 일밍아웃 하면 잔소리에요 카고팬츠 엄청 사고 그런거 많이 봤는대 ...</td>\n",
       "      <td>1</td>\n",
       "    </tr>\n",
       "    <tr>\n",
       "      <th>1999</th>\n",
       "      <td>199719</td>\n",
       "      <td>진쨔 예쁩니다.. 두말 하면 잔소리에요 카고팬츠 엄청 사고싶어서 많이 봤는대 이거 ...</td>\n",
       "      <td>1</td>\n",
       "    </tr>\n",
       "    <tr>\n",
       "      <th>7999</th>\n",
       "      <td>199719</td>\n",
       "      <td>진쨔 예쁩니다.. 두말하면 잔소리 자칭 카피팬츠 엄청 사고싶어서 많이 봤는대 그 만...</td>\n",
       "      <td>1</td>\n",
       "    </tr>\n",
       "    <tr>\n",
       "      <th>25999</th>\n",
       "      <td>199719</td>\n",
       "      <td>진쨔 기가삽니다.. 두 이승 하면 잔소리에요 카고팬츠 엄청 사고싶어서 사서 봤는대 ...</td>\n",
       "      <td>1</td>\n",
       "    </tr>\n",
       "  </tbody>\n",
       "</table>\n",
       "<p>26000 rows × 3 columns</p>\n",
       "</div>"
      ],
      "text/plain": [
       "           id                                               text  label\n",
       "0         218  가성비 굿이에요 저는 프레임만 구입했는데 2주만에 왔고요 디자인 깔끔하고요 인터넷 ...      1\n",
       "4000      218  가성비 굿입니다 저는 프레임만 구입했는데 2주만에 왔고요 디자인 깔끔하고요 인터넷 ...      1\n",
       "22000     218  가성비 굿 전략 저는 프레임만 구입한지 오랫만에 왔고요 디자인 깔끔하고요 인터넷 다...      1\n",
       "6000      218  가성비 굿이에요 저는 프레임만 구입했는데 2주만에 왔고요 디자인 깔끔했고요 인터넷 ...      1\n",
       "20000     218  가성비 굿이에요 저는 프레임폰 구입했는데 2주만에 왔고요 디자인 깔끔하고요 인터넷 ...      1\n",
       "...       ...                                                ...    ...\n",
       "3999   199719  진쨔 예쁩니다.. 두말 하면 잔소리에요 카고팬츠 엄청 사고싶어서 많이 봤는대 이거 ...      1\n",
       "21999  199719  진쨔 예쁩니다.. 일밍아웃 하면 잔소리에요 카고팬츠 엄청 사고 그런거 많이 봤는대 ...      1\n",
       "1999   199719  진쨔 예쁩니다.. 두말 하면 잔소리에요 카고팬츠 엄청 사고싶어서 많이 봤는대 이거 ...      1\n",
       "7999   199719  진쨔 예쁩니다.. 두말하면 잔소리 자칭 카피팬츠 엄청 사고싶어서 많이 봤는대 그 만...      1\n",
       "25999  199719  진쨔 기가삽니다.. 두 이승 하면 잔소리에요 카고팬츠 엄청 사고싶어서 사서 봤는대 ...      1\n",
       "\n",
       "[26000 rows x 3 columns]"
      ]
     },
     "execution_count": 361,
     "metadata": {},
     "output_type": "execute_result"
    }
   ],
   "source": [
    "augment_df = pd.DataFrame(augmented_data)\n",
    "augment_df['id'] = augment_df['id'].astype(int)\n",
    "augment_df.sort_values(by=[\"id\"], inplace=True)\n",
    "augment_df"
   ]
  },
  {
   "cell_type": "code",
   "execution_count": 362,
   "metadata": {},
   "outputs": [
    {
     "data": {
      "text/html": [
       "<div>\n",
       "<style scoped>\n",
       "    .dataframe tbody tr th:only-of-type {\n",
       "        vertical-align: middle;\n",
       "    }\n",
       "\n",
       "    .dataframe tbody tr th {\n",
       "        vertical-align: top;\n",
       "    }\n",
       "\n",
       "    .dataframe thead th {\n",
       "        text-align: right;\n",
       "    }\n",
       "</style>\n",
       "<table border=\"1\" class=\"dataframe\">\n",
       "  <thead>\n",
       "    <tr style=\"text-align: right;\">\n",
       "      <th></th>\n",
       "      <th>id</th>\n",
       "      <th>text</th>\n",
       "      <th>label</th>\n",
       "    </tr>\n",
       "  </thead>\n",
       "  <tbody>\n",
       "    <tr>\n",
       "      <th>0</th>\n",
       "      <td>218</td>\n",
       "      <td>가성비 굿이에요 저는 프레임만 구입했는데 2주만에 왔고요 디자인 깔끔하고요 인터넷 ...</td>\n",
       "      <td>1</td>\n",
       "    </tr>\n",
       "    <tr>\n",
       "      <th>4000</th>\n",
       "      <td>218</td>\n",
       "      <td>가성비 굿입니다 저는 프레임만 구입했는데 2주만에 왔고요 디자인 깔끔하고요 인터넷 ...</td>\n",
       "      <td>1</td>\n",
       "    </tr>\n",
       "    <tr>\n",
       "      <th>22000</th>\n",
       "      <td>218</td>\n",
       "      <td>가성비 굿 전략 저는 프레임만 구입한지 오랫만에 왔고요 디자인 깔끔하고요 인터넷 다...</td>\n",
       "      <td>1</td>\n",
       "    </tr>\n",
       "    <tr>\n",
       "      <th>6000</th>\n",
       "      <td>218</td>\n",
       "      <td>가성비 굿이에요 저는 프레임만 구입했는데 2주만에 왔고요 디자인 깔끔했고요 인터넷 ...</td>\n",
       "      <td>1</td>\n",
       "    </tr>\n",
       "    <tr>\n",
       "      <th>20000</th>\n",
       "      <td>218</td>\n",
       "      <td>가성비 굿이에요 저는 프레임폰 구입했는데 2주만에 왔고요 디자인 깔끔하고요 인터넷 ...</td>\n",
       "      <td>1</td>\n",
       "    </tr>\n",
       "    <tr>\n",
       "      <th>...</th>\n",
       "      <td>...</td>\n",
       "      <td>...</td>\n",
       "      <td>...</td>\n",
       "    </tr>\n",
       "    <tr>\n",
       "      <th>11999</th>\n",
       "      <td>199719</td>\n",
       "      <td>진교수님 예쁩니다.. 두말 하면 잔소리에요 카고팬츠 엄청 사고싶어서 많이 샀는대 이...</td>\n",
       "      <td>1</td>\n",
       "    </tr>\n",
       "    <tr>\n",
       "      <th>19999</th>\n",
       "      <td>199719</td>\n",
       "      <td>진쨔 예쁩니다.. 두말 하면 잔소리에요 카고팬츠 엄청보고싶어서 몇번 봤는대 이거 만...</td>\n",
       "      <td>1</td>\n",
       "    </tr>\n",
       "    <tr>\n",
       "      <th>21999</th>\n",
       "      <td>199719</td>\n",
       "      <td>진쨔 예쁩니다.. 일밍아웃 하면 잔소리에요 카고팬츠 엄청 사고 그런거 많이 봤는대 ...</td>\n",
       "      <td>1</td>\n",
       "    </tr>\n",
       "    <tr>\n",
       "      <th>7999</th>\n",
       "      <td>199719</td>\n",
       "      <td>진쨔 예쁩니다.. 두말하면 잔소리 자칭 카피팬츠 엄청 사고싶어서 많이 봤는대 그 만...</td>\n",
       "      <td>1</td>\n",
       "    </tr>\n",
       "    <tr>\n",
       "      <th>25999</th>\n",
       "      <td>199719</td>\n",
       "      <td>진쨔 기가삽니다.. 두 이승 하면 잔소리에요 카고팬츠 엄청 사고싶어서 사서 봤는대 ...</td>\n",
       "      <td>1</td>\n",
       "    </tr>\n",
       "  </tbody>\n",
       "</table>\n",
       "<p>23744 rows × 3 columns</p>\n",
       "</div>"
      ],
      "text/plain": [
       "           id                                               text  label\n",
       "0         218  가성비 굿이에요 저는 프레임만 구입했는데 2주만에 왔고요 디자인 깔끔하고요 인터넷 ...      1\n",
       "4000      218  가성비 굿입니다 저는 프레임만 구입했는데 2주만에 왔고요 디자인 깔끔하고요 인터넷 ...      1\n",
       "22000     218  가성비 굿 전략 저는 프레임만 구입한지 오랫만에 왔고요 디자인 깔끔하고요 인터넷 다...      1\n",
       "6000      218  가성비 굿이에요 저는 프레임만 구입했는데 2주만에 왔고요 디자인 깔끔했고요 인터넷 ...      1\n",
       "20000     218  가성비 굿이에요 저는 프레임폰 구입했는데 2주만에 왔고요 디자인 깔끔하고요 인터넷 ...      1\n",
       "...       ...                                                ...    ...\n",
       "11999  199719  진교수님 예쁩니다.. 두말 하면 잔소리에요 카고팬츠 엄청 사고싶어서 많이 샀는대 이...      1\n",
       "19999  199719  진쨔 예쁩니다.. 두말 하면 잔소리에요 카고팬츠 엄청보고싶어서 몇번 봤는대 이거 만...      1\n",
       "21999  199719  진쨔 예쁩니다.. 일밍아웃 하면 잔소리에요 카고팬츠 엄청 사고 그런거 많이 봤는대 ...      1\n",
       "7999   199719  진쨔 예쁩니다.. 두말하면 잔소리 자칭 카피팬츠 엄청 사고싶어서 많이 봤는대 그 만...      1\n",
       "25999  199719  진쨔 기가삽니다.. 두 이승 하면 잔소리에요 카고팬츠 엄청 사고싶어서 사서 봤는대 ...      1\n",
       "\n",
       "[23744 rows x 3 columns]"
      ]
     },
     "execution_count": 362,
     "metadata": {},
     "output_type": "execute_result"
    }
   ],
   "source": [
    "augment_df.drop_duplicates(subset=[\"text\"], inplace=True)\n",
    "augment_df"
   ]
  },
  {
   "cell_type": "code",
   "execution_count": null,
   "metadata": {},
   "outputs": [],
   "source": [
    "train_df.sample"
   ]
  },
  {
   "cell_type": "code",
   "execution_count": 368,
   "metadata": {},
   "outputs": [
    {
     "data": {
      "text/plain": [
       "['장갑도 짱짱하고 패드도 좋아요. 장갑낀 상태에서 스마트폰 터치도 됩니다.',\n",
       " '장갑이 짱짱하고 패드도 좋아요. 장갑낀 상태에서 스마트폰 터치도 됩니다.',\n",
       " '장갑 뭉 짱짱하고 패딩도 됩니다.nd낀 상태에서 스마트폰 터 저도 됩니다.',\n",
       " '장갑이 짱짱하고 패드도 좋아요. 장갑낀 상태에서는장치도 됩니다.',\n",
       " '장갑이 짱짱하고 패드도 좋아요. 장갑낀 사람은 스마트폰 터 보내서 됩니다.',\n",
       " '오짱욘짱하고 패드도 좋아요. 장갑낀 상태에서 스마트폰 터치도 됩니다.',\n",
       " '장갑이 짱짱하고 패드도 좋아요. 장갑이 생각나는 스마트폰 터치도 됩니다.',\n",
       " '장갑끼고 짱짱하고 패드도 좋아요. 장갑낀 사람은 스마트폰 터치도 됩니다.',\n",
       " '장갑이 짱짱하고 패드도 좋아요. 장갑 찬 상태에서는 터치도 좋아요.']"
      ]
     },
     "execution_count": 368,
     "metadata": {},
     "output_type": "execute_result"
    }
   ],
   "source": [
    "num_samples = len(train_df) * num_augs\n",
    "labels = augment_df[\"label\"].unique().tolist()\n",
    "num_labels = len(labels)\n",
    "\n",
    "aug_sampled_df = pd.DataFrame(columns=[\"id\", \"text\", \"label\"])  \n",
    "for label in labels:\n",
    "    label_sampled_df = augment_df[augment_df[\"label\"] == label].sample(n=num_samples // num_labels)\n",
    "    aug_sampled_df = pd.concat([aug_sampled_df, label_sampled_df])\n",
    "\n",
    "aug_sampled_df.sort_values(by=[\"id\"], inplace=True)\n",
    "aug_sampled_df"
   ]
  },
  {
   "cell_type": "code",
   "execution_count": null,
   "metadata": {},
   "outputs": [],
   "source": [
    "aug_df = pd.concat([train_df, aug_sampled_df])\n",
    "aug_df.sort_values(by=[\"id\"], inplace=True, kind=\"stable\")\n",
    "aug_df"
   ]
  },
  {
   "cell_type": "code",
   "execution_count": 363,
   "metadata": {},
   "outputs": [
    {
     "data": {
      "text/plain": [
       "id\n",
       "218       13\n",
       "83921     13\n",
       "86198     13\n",
       "85825     13\n",
       "85731     13\n",
       "          ..\n",
       "68699      4\n",
       "123107     4\n",
       "44342      3\n",
       "104098     2\n",
       "187238     1\n",
       "Name: count, Length: 2000, dtype: int64"
      ]
     },
     "execution_count": 363,
     "metadata": {},
     "output_type": "execute_result"
    }
   ],
   "source": [
    "augment_df['id'].value_counts()"
   ]
  },
  {
   "cell_type": "code",
   "execution_count": 317,
   "metadata": {},
   "outputs": [],
   "source": [
    "augment_df.to_csv(\"dataset/train_aug_mlm.csv\", index=False)"
   ]
  }
 ],
 "metadata": {
  "kernelspec": {
   "display_name": "pytorch",
   "language": "python",
   "name": "python3"
  },
  "language_info": {
   "codemirror_mode": {
    "name": "ipython",
    "version": 3
   },
   "file_extension": ".py",
   "mimetype": "text/x-python",
   "name": "python",
   "nbconvert_exporter": "python",
   "pygments_lexer": "ipython3",
   "version": "3.9.17"
  }
 },
 "nbformat": 4,
 "nbformat_minor": 2
}
